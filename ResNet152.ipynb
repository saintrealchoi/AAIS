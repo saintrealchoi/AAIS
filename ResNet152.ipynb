{
 "cells": [
  {
   "cell_type": "code",
   "execution_count": 20,
   "metadata": {},
   "outputs": [
    {
     "name": "stdout",
     "output_type": "stream",
     "text": [
      "Tue Feb  2 02:49:36 2021       \n",
      "+-----------------------------------------------------------------------------+\n",
      "| NVIDIA-SMI 410.104      Driver Version: 410.104      CUDA Version: 10.1     |\n",
      "|-------------------------------+----------------------+----------------------+\n",
      "| GPU  Name        Persistence-M| Bus-Id        Disp.A | Volatile Uncorr. ECC |\n",
      "| Fan  Temp  Perf  Pwr:Usage/Cap|         Memory-Usage | GPU-Util  Compute M. |\n",
      "|===============================+======================+======================|\n",
      "|   0  Tesla V100-DGXS...  On   | 00000000:07:00.0 Off |                    0 |\n",
      "| N/A   49C    P0    53W / 300W |  23649MiB / 32478MiB |      0%      Default |\n",
      "+-------------------------------+----------------------+----------------------+\n",
      "|   1  Tesla V100-DGXS...  On   | 00000000:08:00.0 Off |                    0 |\n",
      "| N/A   48C    P0    58W / 300W |    321MiB / 32478MiB |      0%      Default |\n",
      "+-------------------------------+----------------------+----------------------+\n",
      "|   2  Tesla V100-DGXS...  On   | 00000000:0E:00.0 Off |                    0 |\n",
      "| N/A   48C    P0    54W / 300W |    848MiB / 32478MiB |      0%      Default |\n",
      "+-------------------------------+----------------------+----------------------+\n",
      "|   3  Tesla V100-DGXS...  On   | 00000000:0F:00.0 Off |                    0 |\n",
      "| N/A   56C    P0   279W / 300W |  17700MiB / 32478MiB |    100%      Default |\n",
      "+-------------------------------+----------------------+----------------------+\n",
      "                                                                               \n",
      "+-----------------------------------------------------------------------------+\n",
      "| Processes:                                                       GPU Memory |\n",
      "|  GPU       PID   Type   Process name                             Usage      |\n",
      "|=============================================================================|\n",
      "+-----------------------------------------------------------------------------+\n"
     ]
    }
   ],
   "source": [
    "!nvidia-smi"
   ]
  },
  {
   "cell_type": "code",
   "execution_count": 1,
   "metadata": {},
   "outputs": [],
   "source": [
    "# using gpu:/1\n",
    "import tensorflow as tf\n",
    "import os\n",
    "os.environ[\"CUDA_VISIBLE_DEVICES\"] = \"1\"\n",
    "\n",
    "gpus = tf.config.experimental.list_physical_devices('GPU')\n",
    "if gpus:\n",
    "  try:\n",
    "    tf.config.experimental.set_memory_growth(gpus[0], True)\n",
    "  except RuntimeError as e:\n",
    "    print(e)"
   ]
  },
  {
   "cell_type": "code",
   "execution_count": 2,
   "metadata": {},
   "outputs": [
    {
     "name": "stdout",
     "output_type": "stream",
     "text": [
      "Model: \"model\"\n",
      "_________________________________________________________________\n",
      "Layer (type)                 Output Shape              Param #   \n",
      "=================================================================\n",
      "input_2 (InputLayer)         [(None, 224, 224, 3)]     0         \n",
      "_________________________________________________________________\n",
      "resnet152 (Functional)       (None, 7, 7, 2048)        58370944  \n",
      "_________________________________________________________________\n",
      "global_average_pooling2d (Gl (None, 2048)              0         \n",
      "_________________________________________________________________\n",
      "dense (Dense)                (None, 7)                 14343     \n",
      "=================================================================\n",
      "Total params: 58,385,287\n",
      "Trainable params: 14,343\n",
      "Non-trainable params: 58,370,944\n",
      "_________________________________________________________________\n"
     ]
    }
   ],
   "source": [
    "import tensorflow as tf\n",
    "from keras import Model\n",
    "from tensorflow.keras.models import Sequential\n",
    "from tensorflow.keras.layers import Dense,AveragePooling2D,Flatten,Dropout\n",
    "from tensorflow import keras\n",
    "\n",
    "base_model = keras.applications.ResNet152(\n",
    "    include_top=False,\n",
    "    weights=\"imagenet\",\n",
    "    input_shape=(224,224,3)\n",
    ")\n",
    "\n",
    "base_model.trainable = False\n",
    "\n",
    "inputs = keras.Input(shape=(224, 224, 3))\n",
    "# Separately from setting trainable on the model, we set training to False \n",
    "x = base_model(inputs, training=False)\n",
    "x = keras.layers.GlobalAveragePooling2D()(x)\n",
    "# x = keras.layers.Dense(512, activation='relu')(x)\n",
    "# x = keras.layers.Dropout(0.2)(x)\n",
    "# A Dense classifier with a single unit \n",
    "outputs = keras.layers.Dense(7)(x)\n",
    "model = keras.Model(inputs, outputs)\n",
    "model.summary()"
   ]
  },
  {
   "cell_type": "code",
   "execution_count": 3,
   "metadata": {},
   "outputs": [],
   "source": [
    "model.compile(optimizer = keras.optimizers.Adam(),\n",
    "              loss = 'categorical_crossentropy',\n",
    "              metrics = ['accuracy'])"
   ]
  },
  {
   "cell_type": "code",
   "execution_count": 4,
   "metadata": {},
   "outputs": [],
   "source": [
    "from tensorflow.keras.preprocessing.image import ImageDataGenerator\n",
    "# create a data generator\n",
    "datagen = ImageDataGenerator(\n",
    "        rescale=1./255\n",
    ")"
   ]
  },
  {
   "cell_type": "code",
   "execution_count": 5,
   "metadata": {},
   "outputs": [
    {
     "name": "stdout",
     "output_type": "stream",
     "text": [
      "Found 3230 images belonging to 7 classes.\n",
      "Found 386 images belonging to 7 classes.\n"
     ]
    }
   ],
   "source": [
    "# load and iterate training dataset\n",
    "\n",
    "seed = 1\n",
    "    \n",
    "train_it = datagen.flow_from_directory('../sungjin/tooth/train',\n",
    "                                       seed = seed,\n",
    "                                       target_size=(224, 224), \n",
    "                                       class_mode='categorical', \n",
    "                                       batch_size=32)\n",
    "# load and iterate test dataset\n",
    "test_it = datagen.flow_from_directory('../sungjin/tooth/test',\n",
    "                                      seed = seed,\n",
    "                                      target_size=(224, 224),\n",
    "                                      class_mode='categorical', \n",
    "                                      batch_size=32)"
   ]
  },
  {
   "cell_type": "code",
   "execution_count": 6,
   "metadata": {},
   "outputs": [
    {
     "name": "stdout",
     "output_type": "stream",
     "text": [
      "Epoch 1/20\n",
      "20/20 [==============================] - 63s 3s/step - loss: 9.5551 - accuracy: 0.2216 - val_loss: 5.6945 - val_accuracy: 0.2281\n",
      "Epoch 2/20\n",
      "20/20 [==============================] - 43s 2s/step - loss: 9.3738 - accuracy: 0.2344 - val_loss: 10.3257 - val_accuracy: 0.2500\n",
      "Epoch 3/20\n",
      "20/20 [==============================] - 43s 2s/step - loss: 10.3146 - accuracy: 0.2021 - val_loss: 7.6561 - val_accuracy: 0.2375\n",
      "Epoch 4/20\n",
      "20/20 [==============================] - 43s 2s/step - loss: 8.6238 - accuracy: 0.1811 - val_loss: 8.5124 - val_accuracy: 0.2438\n",
      "Epoch 5/20\n",
      "20/20 [==============================] - 43s 2s/step - loss: 8.3081 - accuracy: 0.2617 - val_loss: 8.7138 - val_accuracy: 0.2188\n",
      "Epoch 6/20\n",
      "20/20 [==============================] - 43s 2s/step - loss: 8.6526 - accuracy: 0.2391 - val_loss: 8.9657 - val_accuracy: 0.2406\n",
      "Epoch 7/20\n",
      "20/20 [==============================] - 54s 3s/step - loss: 8.2200 - accuracy: 0.2395 - val_loss: 8.7138 - val_accuracy: 0.2313\n",
      "Epoch 8/20\n",
      "20/20 [==============================] - 52s 3s/step - loss: 8.6858 - accuracy: 0.2118 - val_loss: 8.3613 - val_accuracy: 0.2500\n",
      "Epoch 9/20\n",
      "20/20 [==============================] - 45s 2s/step - loss: 10.0786 - accuracy: 0.1754 - val_loss: 8.3613 - val_accuracy: 0.2406\n",
      "Epoch 10/20\n",
      "20/20 [==============================] - 43s 2s/step - loss: 8.9542 - accuracy: 0.2129 - val_loss: 8.7138 - val_accuracy: 0.2375\n",
      "Epoch 11/20\n",
      "20/20 [==============================] - 43s 2s/step - loss: 8.4903 - accuracy: 0.2431 - val_loss: 8.7642 - val_accuracy: 0.2313\n",
      "Epoch 12/20\n",
      "20/20 [==============================] - 43s 2s/step - loss: 9.7977 - accuracy: 0.1960 - val_loss: 8.7138 - val_accuracy: 0.2281\n",
      "Epoch 13/20\n",
      "20/20 [==============================] - 44s 2s/step - loss: 9.2323 - accuracy: 0.2218 - val_loss: 8.6635 - val_accuracy: 0.2438\n",
      "Epoch 14/20\n",
      "20/20 [==============================] - 43s 2s/step - loss: 9.2042 - accuracy: 0.1998 - val_loss: 8.8146 - val_accuracy: 0.2188\n",
      "Epoch 15/20\n",
      "20/20 [==============================] - 43s 2s/step - loss: 8.7299 - accuracy: 0.1964 - val_loss: 8.9657 - val_accuracy: 0.2250\n",
      "Epoch 16/20\n",
      "20/20 [==============================] - 43s 2s/step - loss: 8.6415 - accuracy: 0.2457 - val_loss: 8.9153 - val_accuracy: 0.2250\n",
      "Epoch 17/20\n",
      "20/20 [==============================] - 43s 2s/step - loss: 8.1161 - accuracy: 0.2292 - val_loss: 9.0664 - val_accuracy: 0.2188\n",
      "Epoch 18/20\n",
      "20/20 [==============================] - 43s 2s/step - loss: 8.4575 - accuracy: 0.2316 - val_loss: 8.6131 - val_accuracy: 0.2375\n",
      "Epoch 19/20\n",
      "20/20 [==============================] - 42s 2s/step - loss: 9.0099 - accuracy: 0.2277 - val_loss: 8.6635 - val_accuracy: 0.2219\n",
      "Epoch 20/20\n",
      "20/20 [==============================] - 44s 2s/step - loss: 8.5614 - accuracy: 0.2514 - val_loss: 9.0161 - val_accuracy: 0.2313\n"
     ]
    }
   ],
   "source": [
    "history = model.fit(train_it, steps_per_epoch=20, validation_data=test_it, validation_steps=10, epochs=20)"
   ]
  },
  {
   "cell_type": "code",
   "execution_count": 17,
   "metadata": {},
   "outputs": [
    {
     "data": {
      "image/png": "[encoded data removed]",
      "text/plain": [
       "<Figure size 432x288 with 1 Axes>"
      ]
     },
     "metadata": {
      "needs_background": "light"
     },
     "output_type": "display_data"
    }
   ],
   "source": [
    "import numpy as np\n",
    "import matplotlib.pyplot as plt\n",
    "\n",
    "y_vloss = history.history['val_loss']\n",
    "y_loss = history.history['loss']\n",
    "\n",
    "x_len = np.arange(len(y_loss))\n",
    "\n",
    "\n",
    "plt.plot(x_len, y_vloss, marker='.', c='red', label=\"Validation-set Loss\")\n",
    "plt.plot(x_len, y_loss, marker='.', c='blue', label=\"Train-set Loss\")\n",
    "\n",
    "plt.legend(loc='upper right')\n",
    "plt.grid()\n",
    "plt.xlabel('epoch')\n",
    "plt.ylabel('loss')\n",
    "plt.show()"
   ]
  },
  {
   "cell_type": "code",
   "execution_count": 18,
   "metadata": {},
   "outputs": [
    {
     "name": "stderr",
     "output_type": "stream",
     "text": [
      "No handles with labels found to put in legend.\n"
     ]
    },
    {
     "data": {
      "image/png": "[encoded data removed]",
      "text/plain": [
       "<Figure size 432x288 with 1 Axes>"
      ]
     },
     "metadata": {
      "needs_background": "light"
     },
     "output_type": "display_data"
    }
   ],
   "source": [
    "y_vacc = history.history['val_accuracy']\n",
    "y_acc = history.history['accuracy']\n",
    "\n",
    "x_len = np.arange(len(y_acc))\n",
    "\n",
    "plt.plot(x_len, y_vacc, marker='.', c='red')\n",
    "plt.plot(x_len, y_acc, marker='.', c='blue')\n",
    "\n",
    "plt.legend(loc='upper right')\n",
    "plt.grid()\n",
    "plt.xlabel('epoch')\n",
    "plt.ylabel('loss')\n",
    "plt.show()"
   ]
  },
  {
   "cell_type": "code",
   "execution_count": 21,
   "metadata": {},
   "outputs": [],
   "source": [
    "base_model.trainable = True\n",
    "\n",
    "model.compile(optimizer = keras.optimizers.Adam(lr = .00001),\n",
    "              loss='categorical_crossentropy',\n",
    "              metrics=['accuracy'])"
   ]
  },
  {
   "cell_type": "code",
   "execution_count": 19,
   "metadata": {},
   "outputs": [
    {
     "name": "stdout",
     "output_type": "stream",
     "text": [
      "Epoch 1/10\n",
      "20/20 [==============================] - 44s 2s/step - loss: 8.6131 - accuracy: 0.2297 - val_loss: 9.0161 - val_accuracy: 0.2281\n",
      "Epoch 2/10\n",
      "20/20 [==============================] - 43s 2s/step - loss: 9.0161 - accuracy: 0.2313 - val_loss: 8.9153 - val_accuracy: 0.2281\n",
      "Epoch 3/10\n",
      "20/20 [==============================] - 43s 2s/step - loss: 8.5879 - accuracy: 0.2031 - val_loss: 8.4116 - val_accuracy: 0.2156\n",
      "Epoch 4/10\n",
      "20/20 [==============================] - 43s 2s/step - loss: 8.9938 - accuracy: 0.2398 - val_loss: 9.1672 - val_accuracy: 0.2500\n",
      "Epoch 5/10\n",
      "20/20 [==============================] - 43s 2s/step - loss: 8.5879 - accuracy: 0.2203 - val_loss: 8.5627 - val_accuracy: 0.2281\n",
      "Epoch 6/10\n",
      "20/20 [==============================] - 43s 2s/step - loss: 8.7894 - accuracy: 0.2250 - val_loss: 9.0161 - val_accuracy: 0.2313\n",
      "Epoch 7/10\n",
      "20/20 [==============================] - 43s 2s/step - loss: 9.1420 - accuracy: 0.2266 - val_loss: 8.9153 - val_accuracy: 0.2438\n",
      "Epoch 8/10\n",
      "20/20 [==============================] - 43s 2s/step - loss: 8.8398 - accuracy: 0.2188 - val_loss: 8.7642 - val_accuracy: 0.2188\n",
      "Epoch 9/10\n",
      "20/20 [==============================] - 43s 2s/step - loss: 9.1924 - accuracy: 0.2188 - val_loss: 8.7138 - val_accuracy: 0.2281\n",
      "Epoch 10/10\n",
      "20/20 [==============================] - 42s 2s/step - loss: 8.8422 - accuracy: 0.2100 - val_loss: 8.9657 - val_accuracy: 0.2188\n"
     ]
    }
   ],
   "source": [
    "history = model.fit(train_it, steps_per_epoch=20, validation_data=test_it, validation_steps=10, epochs=10)"
   ]
  },
  {
   "cell_type": "code",
   "execution_count": null,
   "metadata": {},
   "outputs": [],
   "source": []
  },
  {
   "cell_type": "code",
   "execution_count": 21,
   "metadata": {},
   "outputs": [
    {
     "data": {
      "text/plain": [
       "{'status': 'ok', 'restart': True}"
      ]
     },
     "execution_count": 21,
     "metadata": {},
     "output_type": "execute_result"
    }
   ],
   "source": [
    "import IPython\n",
    "app = IPython.Application.instance()\n",
    "app.kernel.do_shutdown(True)"
   ]
  },
  {
   "cell_type": "code",
   "execution_count": null,
   "metadata": {},
   "outputs": [],
   "source": []
  }
 ],
 "metadata": {
  "kernelspec": {
   "display_name": "Python 3",
   "language": "python",
   "name": "python3"
  },
  "language_info": {
   "codemirror_mode": {
    "name": "ipython",
    "version": 3
   },
   "file_extension": ".py",
   "mimetype": "text/x-python",
   "name": "python",
   "nbconvert_exporter": "python",
   "pygments_lexer": "ipython3",
   "version": "3.8.5"
  }
 },
 "nbformat": 4,
 "nbformat_minor": 4
}
